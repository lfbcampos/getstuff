{
 "cells": [
  {
   "cell_type": "code",
   "execution_count": null,
   "metadata": {},
   "outputs": [],
   "source": [
    "import time, sys\n",
    "indent = 0 # How many spaces to indent.\n",
    "indentIncreasing = True # Whether the indentation is increasing or not.\n",
    "\n",
    "try:\n",
    "    while True: # The main program loop.\n",
    "        print(' ' * indent, end='')\n",
    "        print('********')\n",
    "        time.sleep(0.1) # Pause for 1/10 of a second.\n",
    "        \n",
    "        if indentIncreasing:\n",
    "            # Increase the number of spaces:\n",
    "            indent = indent + 1\n",
    "            if indent == 20:\n",
    "                # Change direction:\n",
    "                indentIncreasing = False\n",
    "        else:\n",
    "            # Decrease the number of spaces:\n",
    "            indent = indent - 1\n",
    "            if indent == 0:\n",
    "                # Change direction:\n",
    "                indentIncreasing = True\n",
    "except KeyboardInterrupt:\n",
    "    sys.exit()"
   ]
  },
  {
   "cell_type": "code",
   "execution_count": 11,
   "metadata": {},
   "outputs": [
    {
     "name": "stdout",
     "output_type": "stream",
     "text": [
      "Outlook not so good\n"
     ]
    }
   ],
   "source": [
    "import random\n",
    "def getAnswer(answerNumber):\n",
    "    if answerNumber == 1:\n",
    "        return 'It is certain'\n",
    "    elif answerNumber == 2:\n",
    "        return 'It is decidedly so'\n",
    "    elif answerNumber == 3:\n",
    "        return 'Yes'\n",
    "    elif answerNumber == 4:\n",
    "        return 'Reply hazy try again'\n",
    "    elif answerNumber == 5:\n",
    "        return 'Ask again later'\n",
    "    elif answerNumber == 6:\n",
    "        return 'Concentrate and ask again'\n",
    "    elif answerNumber == 7:\n",
    "        return 'My reply is no'\n",
    "    elif answerNumber == 8:\n",
    "        return 'Outlook not so good'\n",
    "    elif answerNumber == 9:\n",
    "        return 'Very doubtful'\n",
    "r = random.randint(1, 9)\n",
    "fortune = getAnswer(r)\n",
    "print(fortune)"
   ]
  },
  {
   "cell_type": "code",
   "execution_count": 12,
   "metadata": {},
   "outputs": [
    {
     "name": "stdout",
     "output_type": "stream",
     "text": [
      "I am thinking of a number between 1 and 20.\n",
      "Take a guess.\n",
      "10\n",
      "Your guess is too low.\n",
      "Take a guess.\n",
      "15\n",
      "Your guess is too low.\n",
      "Take a guess.\n",
      "18\n",
      "Your guess is too low.\n",
      "Take a guess.\n",
      "19\n",
      "Good job! You guessed my number in 4 guesses!\n"
     ]
    }
   ],
   "source": [
    "# This is a guess the number game.\n",
    "import random\n",
    "secretNumber = random.randint(1, 20)\n",
    "print('I am thinking of a number between 1 and 20.')\n",
    "# Ask the player to guess 6 times.\n",
    "for guessesTaken in range(1, 7):\n",
    "    print('Take a guess.')\n",
    "    guess = int(input())\n",
    "    if guess < secretNumber:\n",
    "        print('Your guess is too low.')\n",
    "    elif guess > secretNumber:\n",
    "        print('Your guess is too high.')\n",
    "    else:\n",
    "        break # This condition is the correct guess!\n",
    "if guess == secretNumber:\n",
    "    print('Good job! You guessed my number in ' + str(guessesTaken) + ' guesses!')\n",
    "else:\n",
    "    print('Nope. The number I was thinking of was ' + str(secretNumber))"
   ]
  },
  {
   "cell_type": "code",
   "execution_count": 13,
   "metadata": {},
   "outputs": [
    {
     "name": "stdout",
     "output_type": "stream",
     "text": [
      "21.0\n",
      "3.5\n",
      "Error: Invalid argument.\n",
      "None\n",
      "42.0\n",
      "21.0\n",
      "3.5\n",
      "Error: Invalid argument.\n"
     ]
    }
   ],
   "source": [
    "#exception handling\n",
    "def spam(divideBy):\n",
    "    try:\n",
    "        return 42 / divideBy\n",
    "    except ZeroDivisionError:\n",
    "        print('Error: Invalid argument.')\n",
    "print(spam(2))\n",
    "print(spam(12))\n",
    "print(spam(0))\n",
    "print(spam(1))\n",
    "\n",
    "def spam(divideBy):\n",
    "    return 42 / divideBy\n",
    "\n",
    "try:\n",
    "    print(spam(2))\n",
    "    print(spam(12))\n",
    "    print(spam(0))\n",
    "    print(spam(1))\n",
    "except ZeroDivisionError:\n",
    "    print('Error: Invalid argument.')"
   ]
  },
  {
   "cell_type": "code",
   "execution_count": 14,
   "metadata": {
    "scrolled": true
   },
   "outputs": [
    {
     "ename": "UnboundLocalError",
     "evalue": "local variable 'eggs' referenced before assignment",
     "output_type": "error",
     "traceback": [
      "\u001b[1;31m---------------------------------------------------------------------------\u001b[0m",
      "\u001b[1;31mUnboundLocalError\u001b[0m                         Traceback (most recent call last)",
      "\u001b[1;32m<ipython-input-14-fb9440fd0163>\u001b[0m in \u001b[0;36m<module>\u001b[1;34m\u001b[0m\n\u001b[0;32m      5\u001b[0m \u001b[1;33m\u001b[0m\u001b[0m\n\u001b[0;32m      6\u001b[0m \u001b[0meggs\u001b[0m \u001b[1;33m=\u001b[0m \u001b[1;34m'global'\u001b[0m\u001b[1;33m\u001b[0m\u001b[1;33m\u001b[0m\u001b[0m\n\u001b[1;32m----> 7\u001b[1;33m \u001b[0mspam\u001b[0m\u001b[1;33m(\u001b[0m\u001b[1;33m)\u001b[0m\u001b[1;33m\u001b[0m\u001b[1;33m\u001b[0m\u001b[0m\n\u001b[0m",
      "\u001b[1;32m<ipython-input-14-fb9440fd0163>\u001b[0m in \u001b[0;36mspam\u001b[1;34m()\u001b[0m\n\u001b[0;32m      1\u001b[0m \u001b[1;31m#error local\u001b[0m\u001b[1;33m\u001b[0m\u001b[1;33m\u001b[0m\u001b[1;33m\u001b[0m\u001b[0m\n\u001b[0;32m      2\u001b[0m \u001b[1;32mdef\u001b[0m \u001b[0mspam\u001b[0m\u001b[1;33m(\u001b[0m\u001b[1;33m)\u001b[0m\u001b[1;33m:\u001b[0m\u001b[1;33m\u001b[0m\u001b[1;33m\u001b[0m\u001b[0m\n\u001b[1;32m----> 3\u001b[1;33m     \u001b[0mprint\u001b[0m\u001b[1;33m(\u001b[0m\u001b[0meggs\u001b[0m\u001b[1;33m)\u001b[0m \u001b[1;31m# ERROR!\u001b[0m\u001b[1;33m\u001b[0m\u001b[1;33m\u001b[0m\u001b[0m\n\u001b[0m\u001b[0;32m      4\u001b[0m     \u001b[0meggs\u001b[0m \u001b[1;33m=\u001b[0m \u001b[1;34m'spam local'\u001b[0m\u001b[1;33m\u001b[0m\u001b[1;33m\u001b[0m\u001b[0m\n\u001b[0;32m      5\u001b[0m \u001b[1;33m\u001b[0m\u001b[0m\n",
      "\u001b[1;31mUnboundLocalError\u001b[0m: local variable 'eggs' referenced before assignment"
     ]
    }
   ],
   "source": [
    "#error local\n",
    "def spam():\n",
    "    print(eggs) # ERROR!\n",
    "    eggs = 'spam local'\n",
    "\n",
    "eggs = 'global'\n",
    "spam()"
   ]
  }
 ],
 "metadata": {
  "kernelspec": {
   "display_name": "Python 3",
   "language": "python",
   "name": "python3"
  },
  "language_info": {
   "codemirror_mode": {
    "name": "ipython",
    "version": 3
   },
   "file_extension": ".py",
   "mimetype": "text/x-python",
   "name": "python",
   "nbconvert_exporter": "python",
   "pygments_lexer": "ipython3",
   "version": "3.8.3"
  }
 },
 "nbformat": 4,
 "nbformat_minor": 4
}
